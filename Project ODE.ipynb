{
 "cells": [
  {
   "cell_type": "markdown",
   "metadata": {},
   "source": [
    "$\\text{Wydział Matematyki} $\\begin{align} \\tag*{styczeń 2021} \\end{align}$  \n",
    "\\\\ \n",
    "\\text{Politechniki Wrocławskiej}$                                                     "
   ]
  },
  {
   "cell_type": "markdown",
   "metadata": {},
   "source": [
    "# $$\\text{Rzuty wolne w koszykówce}$$\n",
    "$$\\text{Filip Osczepaliński, Adam Łojowski}$$\n"
   ]
  },
  {
   "cell_type": "markdown",
   "metadata": {},
   "source": [
    "# Abstrakt\n",
    "\n",
    "___\n",
    "<span style='font-family:\"Arial\"'> \n",
    "Zadaniem naszego projektu jest analiza oraz zasymulowanie toru lotu piłki koszykowej posłanej w trakcie rzutu wolnego. Ostatecznym celem pracy jest wykorzystanie symulacji numerycznych do znalezienia wartości prędkości oraz kątów, które zapewnią trafiony rzut do kosza.\n",
    "\n",
    "</span>"
   ]
  },
  {
   "cell_type": "markdown",
   "metadata": {},
   "source": [
    "# 1. Wprowadzenie\n",
    "_ _ _\n",
    "<span style='font-family:\"Arial\"'> \n",
    "    <p>Rzut wolny, jest to w koszykówce specjalna\n",
    "        okazja do zdobycia punków w momencie, gdy ten zostaje sfaulowany, bądź drużyna przeciwna popełni błąd techniczny. Rzut ten wykonuje się z lini wolnej, oddalonej od kosza o 3.96m(13ft.) według ligi **NBA**.\n",
    "    </p>\n",
    "    <p>Z racji, że w ciągu jednego meczu może paść łącznie kilkanaście, a nawet i kilkadziesiąt rzutów wolnych, warto przyjrzeć się bliżej temu zagadnieniu od matematycznej strony.</p>\n",
    "    <p>\n",
    "        Układ współrzędnych określony przez $x,y$, gdzie $x$ to oś biegnąca równolegle do boiska, w najprostszym przykładzie do jego dłuższego boku, a $y$ będzie określać wysokość. W takim układzie możemy określić wartości składowe wektora prędkości początkowej jako </p> \n",
    "    <p>$$\\left\\{\n",
    "    \\begin{array}\\\\\n",
    "        \\dot{x}=v_{0}cos \\theta_{0}\\\\\n",
    "        \\dot{y}= v_{0}sin \\theta_{0}\n",
    "    \\end{array}\n",
    "    \\right.$$</p>\n",
    "\n",
    "    \n",
    "\n",
    "    \n",
    "    \n",
    "    \n",
    "</span> \n"
   ]
  },
  {
   "cell_type": "markdown",
   "metadata": {},
   "source": [
    "<span style='font-family:\"Arial\"'>\n",
    "W tym przypadku $v_0$ będzie wartością prędkości początkowej, a $\\theta_0$ kątem wyrzutu. Podczas naszej pracy będziemy chcieli zasymulować lot piłki koszykowej wykorzystując do tego kilka modeli matematycznych. Oczywiście, naszym zadaniem jest znalezienie takich wartości parametrów $v_0$ i $\\theta_0$, przy których piłka wpadnie do kosza.\n",
    "</span>"
   ]
  },
  {
   "cell_type": "markdown",
   "metadata": {},
   "source": [
    "<span style='font-family:\"Arial\"'>\n",
    "By tego dokonać, będziemy musieli zdefiniować stałe fizyczne, które będą niebędne do przeprowadzenia symulacji. Dodatkowo wykorzystamy pozostałe parametry takie jak wymiary boiska, piłki i kosza, które będą odpowiadać oficjalnom standardom National Basketball Association, czyli najpopularniejszej ligi koszykarskiej.\n",
    "</span>"
   ]
  },
  {
   "cell_type": "markdown",
   "metadata": {},
   "source": [
    "1. Main list <br>\n",
    " a. Sub-list <br>\n",
    " b. sub list \n",
    "2. Main list\n",
    "* main list "
   ]
  },
  {
   "cell_type": "markdown",
   "metadata": {},
   "source": [
    "## 1.1 Stałe używane w symulacjach\n",
    "___\n",
    "$\\begin{aligned}\n",
    "&\\text{masa piłki: } && \\text{m} = 0.635 \\; \\text{kg} \\\\\n",
    "&\\text{promień piłki: } && \\text{R} = 0.12 \\; \\text{m} \\\\\n",
    "&\\text{średnica piłki: } && \\text{D} = 0.24 \\; \\text{m} \\\\\n",
    "&\\text{objętość piłki: } && \\text{V} = 0.007 \\; \\text{m}^3\\\\\n",
    "&\\text{pole przekroju poprzecznego piłki:} && \\text{Prze} = 0.18 \\; \\text{m}^2 \\\\\n",
    "&\\text{moment bezwładności piłki: } && \\text{I} = \\frac{2}{3}\\text{mR}^2 = 0.006 \\; \\text{kg} \\cdot \\text{m}^2 \\\\\n",
    "&\\text{współczynnik oporu powietrza dla piłki: } && \\text{C}_\\text{X} = 0.24 \\\\\n",
    "&\\text{współczynnik sprężystości piłki: } && \\text{k} = 45000 \\; \\tfrac{\\text{N}}{\\text{m}} \\\\\n",
    "&\\text{współczynnik siły nośnej dla piłki: } && \\text{C}_\\text{L} = 0.25 \\; \\tfrac{\\text{rad}}{s} \\\\\n",
    "&\\text{współczynnik tłumienia w kontakcie z tablicą: } && \\text{C}_\\text{B} = 24 \\; \\tfrac{\\text{Ns}}{\\text{m}} \\\\\n",
    "&\\text{współczynnik tarcia piłki w kontakcie z tablicą: } && \\mu_{\\operatorname{board}} = 0.6 \\\\\n",
    "&\\text{współczynnik tarcia piłki w kontakcie z obręczą: } && \\mu_{\\operatorname{rim}} = 0.5 \\\\\n",
    "&\\text{promień przekroju poprzecznego obręczy: } && R_{\\operatorname{rim}} = 0.009 \\; \\text{m} \\\\\n",
    "&\\text{przyspieszenie grawitacyjne: } && \\text{g} = 9.81 \\; \\tfrac{\\text{m}}{\\text{s}^2} \\\\\n",
    "&\\text{gęstość powietrza: } && \\rho = 1.225 \\; \\tfrac{\\text{kg}}{\\text{m}^3} \\\\\n",
    "\\end{aligned}$\n",
    "\n",
    "*współczynnik siły nośnej = współczynnik Magnusa?"
   ]
  },
  {
   "cell_type": "code",
   "execution_count": 10,
   "metadata": {},
   "outputs": [],
   "source": [
    "import sys\n",
    "#Piłka\n",
    "m = 0.635\n",
    "R = 0.12\n",
    "D = 0.24\n",
    "V = 0.007\n",
    "P = 0.18 \n",
    "I = 0.006\n",
    "CX = 0.24\n",
    "k = 45000\n",
    "CL = 0.25\n",
    "#Pozostałe stałe fizyczne \n",
    "g = 9.81\n",
    "ro = 1.225"
   ]
  },
  {
   "cell_type": "markdown",
   "metadata": {},
   "source": [
    "## 1.2 Oznaczenia potrzebnych odległości i wymiarów"
   ]
  },
  {
   "cell_type": "code",
   "execution_count": 1,
   "metadata": {},
   "outputs": [],
   "source": [
    "#Wysokość garcza\n",
    "h_player = 1.77\n",
    "#Kosz \n",
    "R_hoop = 0.23\n",
    "R_rim = 0.008\n",
    "x_rim_board = 0.15\n",
    "#Boisko\n",
    "free_throw_line_x = 3.928\n",
    "y_rim = 3.05\n",
    "y_board = 2.9\n",
    "h_board = 0.9\n",
    "x_rim_front = 3.936\n",
    "x_rim_back = 4.412\n",
    "x_board = 4.57;"
   ]
  },
  {
   "cell_type": "markdown",
   "metadata": {},
   "source": [
    "## 2. Sformułowanie zagadnienia"
   ]
  },
  {
   "cell_type": "markdown",
   "metadata": {},
   "source": [
    "<span style='font-family:\"Arial\"'>\n",
    "Będziemy rozpatrywać rzut wolny, wykonany przez osobę posiadającej 1.77 m wzrostu. Taki bowiem jest średni wzrost mężczyzn w Polsce. Zawodnik stoi w odlełości 3.96 m od lini kosza. Podczas rzutu, koszykarz nadaje piłce prędność początkową $v_0$ oraz prędkość kątową $\\omega$.\n",
    "    \n",
    "Dodatkowo zakładamy, że:\n",
    "* piłka jest idealną, jednorodną sferą o promieniu $R$\n",
    "* piłka porusza się wyłącznie wzdłóż osi $x$ oraz $y$\n",
    "* wektor prędkości kątowej $\\omega$ jest prostopadły do płaszczyzny osi $x$ oraz $y$\n",
    "* odbicie piłki od obręczy i tarczy jest idealnie sprężyste\n",
    "</span>"
   ]
  },
  {
   "cell_type": "markdown",
   "metadata": {},
   "source": [
    "# Literatura\n",
    "___\n",
    "https://physicsofbasketball.wordpress.com/2014/05/18/forces-acting-on-a-basketball-in-flight/ \n",
    "\n",
    "Ogónie tu jest dużo fajnego materiału:\n",
    "https://arxiv.org/pdf/1702.07234.pdf\n",
    "\n",
    "Informacje o piłce: https://ballergears.com/how-much-does-a-basketball-weigh/ \n",
    "\n",
    "Reszta uzupełniająca: https://iopscience.iop.org/article/10.1088/1367-2630/16/3/033039/pdf\n",
    "\n",
    "https://core.ac.uk/download/pdf/81927888.pdf\n",
    "\n",
    "Współczynnik Magnusa:\n",
    "https://www.grc.nasa.gov/www/k-12/airplane/soclift.html\n",
    "\n",
    "Kosz: https://www.dimensions.com/element/basketball-rims-nets\n",
    "\n",
    "https://pl.wikipedia.org/wiki/Tablica_(koszyk%C3%B3wka)"
   ]
  },
  {
   "cell_type": "code",
   "execution_count": 1,
   "metadata": {},
   "outputs": [
    {
     "name": "stdout",
     "output_type": "stream",
     "text": [
      "zmiana\n"
     ]
    }
   ],
   "source": [
    "print('zmiana')"
   ]
  },
  {
   "cell_type": "code",
   "execution_count": null,
   "metadata": {},
   "outputs": [],
   "source": []
  }
 ],
 "metadata": {
  "kernelspec": {
   "display_name": "Python 3",
   "language": "python",
   "name": "python3"
  },
  "language_info": {
   "codemirror_mode": {
    "name": "ipython",
    "version": 3
   },
   "file_extension": ".py",
   "mimetype": "text/x-python",
   "name": "python",
   "nbconvert_exporter": "python",
   "pygments_lexer": "ipython3",
   "version": "3.8.3"
  }
 },
 "nbformat": 4,
 "nbformat_minor": 4
}
