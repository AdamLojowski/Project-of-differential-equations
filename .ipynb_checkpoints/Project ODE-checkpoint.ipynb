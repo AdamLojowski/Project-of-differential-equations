{
 "cells": [
  {
   "cell_type": "markdown",
   "metadata": {},
   "source": [
    "$\\text{Wydział Matematyki} $\\begin{align} \\tag*{styczeń 2021} \\end{align}$  \n",
    "\\\\ \n",
    "\\text{Politechniki Wrocławskiej}$                                                     "
   ]
  },
  {
   "cell_type": "markdown",
   "metadata": {},
   "source": [
    "# $$\\text{Rzuty wolne w koszykówce}$$\n",
    "$$\\text{Filip Osczepaliński, Adam Łojowski}$$\n"
   ]
  },
  {
   "cell_type": "markdown",
   "metadata": {},
   "source": [
    "# Czym jest rzut wolny \n",
    "\n",
    "___\n",
    "<span style='font-family:\"Arial\"'> \n",
    "\n",
    "czy tutaj napewno coś chcemy?\n",
    "</span>"
   ]
  },
  {
   "cell_type": "markdown",
   "metadata": {},
   "source": [
    "# 1. Wprowadzenie\n",
    "_ _ _\n",
    "<span style='font-family:\"Arial\"'> \n",
    "czym jest rzut wolny? najlepsi strzelcy?\n",
    "</span> "
   ]
  },
  {
   "cell_type": "markdown",
   "metadata": {},
   "source": [
    "1. Main list <br>\n",
    " a. Sub-list <br>\n",
    " b. sub list \n",
    "2. Main list\n",
    "* main list "
   ]
  },
  {
   "cell_type": "markdown",
   "metadata": {},
   "source": [
    "## 1.1 Stałe używane w symulacjach\n",
    "___\n",
    "$\\begin{aligned}\n",
    "&\\text{masa piłki: } && \\text{m} = 0.6234 \\; \\text{kg} \\\\\n",
    "&\\text{promień piłki: } && \\text{R} = 0.12 \\; \\text{m} \\\\\n",
    "&\\text{średnica piłki: } && \\text{D} = 0.24 \\; \\text{m} \\\\\n",
    "&\\text{objętość piłki: } && \\text{V} = 0.007 \\; \\text{m}^3\\\\\n",
    "&\\text{pole przekroju poprzecznego* piłki:} && \\text{A} = 0.18 \\; \\text{m}^2 \\\\\n",
    "&\\text{moment bezwładności piłki: } && I = \\frac{2}{3}\\text{mR}^2 = 0.006 \\; \\text{kg} \\cdot \\text{m}^2 \\\\\n",
    "&\\text{przyspieszenie grawitacyjne: } && \\text{g} = 9.81 \\; \\tfrac{\\text{m}}{\\text{s}^2} \\\\\n",
    "&\\text{gęstość powietrza: } && \\rho = 1.225 \\; \\tfrac{\\text{kg}}{\\text{m}^3} \\\\\n",
    "&\\text{współczynnik Magnusa dla piłki}^{1}: && \\text{C_M} = 0.25 \\; \\tfrac{\\text{rad}}{s} \\\\\n",
    "&\\text{współczynnik oporu powietrza dla piłki}^{2}: && \\text{C_D} = 0.24 \\\\\n",
    "&\\text{współczynnik sprężystości piłki: }^{3} && \\text{k} = 45000 \\; \\tfrac{\\text{N}}{\\text{m}} \\\\\n",
    "&\\text{współczynnik tłumienia w kontakcie z tablicą: }^{4} && \\text{c} = 24 \\; \\tfrac{\\text{Ns}}{\\text{m}} \\\\\n",
    "&\\text{współczynnik tarcia piłki w kontakcie z tablicą: }^{5} && \\mu_{\\operatorname{board}} = 0.6 \\\\\n",
    "&\\text{współczynnik tarcia piłki w kontakcie z obręczą: }^{6} && \\mu_{\\operatorname{rim}} = 0.5 \\\\\n",
    "&\\text{promień przekroju poprzecznego obręczy: } && R_{\\operatorname{rim}} = 0.009 \\; \\text{m} \\\\\n",
    "\\end{aligned}$"
   ]
  },
  {
   "cell_type": "markdown",
   "metadata": {},
   "source": [
    "# Literatura\n",
    "___\n"
   ]
  },
  {
   "cell_type": "code",
   "execution_count": null,
   "metadata": {},
   "outputs": [],
   "source": []
  }
 ],
 "metadata": {
  "kernelspec": {
   "display_name": "Python 3",
   "language": "python",
   "name": "python3"
  },
  "language_info": {
   "codemirror_mode": {
    "name": "ipython",
    "version": 3
   },
   "file_extension": ".py",
   "mimetype": "text/x-python",
   "name": "python",
   "nbconvert_exporter": "python",
   "pygments_lexer": "ipython3",
   "version": "3.9.2"
  }
 },
 "nbformat": 4,
 "nbformat_minor": 4
}
